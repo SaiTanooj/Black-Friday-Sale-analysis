{
 "cells": [
  {
   "cell_type": "code",
   "execution_count": 1,
   "id": "0e1c3156-c4fa-4ff1-b815-006b188a1389",
   "metadata": {},
   "outputs": [],
   "source": [
    "import pandas as pd\n",
    "import matplotlib.pyplot as plt\n",
    "import seaborn as sn"
   ]
  },
  {
   "cell_type": "code",
   "execution_count": 2,
   "id": "e35824f0-a69e-43c4-a209-f63c7326c04f",
   "metadata": {},
   "outputs": [],
   "source": [
    "df=pd.read_csv(\"BlackFriday.csv\")"
   ]
  },
  {
   "cell_type": "code",
   "execution_count": 3,
   "id": "5cf9523f-227b-4d3b-bcfb-6800175baadf",
   "metadata": {},
   "outputs": [
    {
     "data": {
      "text/html": [
       "<div>\n",
       "<style scoped>\n",
       "    .dataframe tbody tr th:only-of-type {\n",
       "        vertical-align: middle;\n",
       "    }\n",
       "\n",
       "    .dataframe tbody tr th {\n",
       "        vertical-align: top;\n",
       "    }\n",
       "\n",
       "    .dataframe thead th {\n",
       "        text-align: right;\n",
       "    }\n",
       "</style>\n",
       "<table border=\"1\" class=\"dataframe\">\n",
       "  <thead>\n",
       "    <tr style=\"text-align: right;\">\n",
       "      <th></th>\n",
       "      <th>User_ID</th>\n",
       "      <th>Product_ID</th>\n",
       "      <th>Gender</th>\n",
       "      <th>Age</th>\n",
       "      <th>Occupation</th>\n",
       "      <th>City_Category</th>\n",
       "      <th>Stay_In_Current_City_Years</th>\n",
       "      <th>Marital_Status</th>\n",
       "      <th>Product_Category_1</th>\n",
       "      <th>Product_Category_2</th>\n",
       "      <th>Product_Category_3</th>\n",
       "      <th>Purchase</th>\n",
       "    </tr>\n",
       "  </thead>\n",
       "  <tbody>\n",
       "    <tr>\n",
       "      <th>0</th>\n",
       "      <td>1000001</td>\n",
       "      <td>P00069042</td>\n",
       "      <td>F</td>\n",
       "      <td>0-17</td>\n",
       "      <td>10</td>\n",
       "      <td>A</td>\n",
       "      <td>2</td>\n",
       "      <td>0</td>\n",
       "      <td>3</td>\n",
       "      <td>NaN</td>\n",
       "      <td>NaN</td>\n",
       "      <td>8370</td>\n",
       "    </tr>\n",
       "    <tr>\n",
       "      <th>1</th>\n",
       "      <td>1000001</td>\n",
       "      <td>P00248942</td>\n",
       "      <td>F</td>\n",
       "      <td>0-17</td>\n",
       "      <td>10</td>\n",
       "      <td>A</td>\n",
       "      <td>2</td>\n",
       "      <td>0</td>\n",
       "      <td>1</td>\n",
       "      <td>6.0</td>\n",
       "      <td>14.0</td>\n",
       "      <td>15200</td>\n",
       "    </tr>\n",
       "    <tr>\n",
       "      <th>2</th>\n",
       "      <td>1000001</td>\n",
       "      <td>P00087842</td>\n",
       "      <td>F</td>\n",
       "      <td>0-17</td>\n",
       "      <td>10</td>\n",
       "      <td>A</td>\n",
       "      <td>2</td>\n",
       "      <td>0</td>\n",
       "      <td>12</td>\n",
       "      <td>NaN</td>\n",
       "      <td>NaN</td>\n",
       "      <td>1422</td>\n",
       "    </tr>\n",
       "    <tr>\n",
       "      <th>3</th>\n",
       "      <td>1000001</td>\n",
       "      <td>P00085442</td>\n",
       "      <td>F</td>\n",
       "      <td>0-17</td>\n",
       "      <td>10</td>\n",
       "      <td>A</td>\n",
       "      <td>2</td>\n",
       "      <td>0</td>\n",
       "      <td>12</td>\n",
       "      <td>14.0</td>\n",
       "      <td>NaN</td>\n",
       "      <td>1057</td>\n",
       "    </tr>\n",
       "    <tr>\n",
       "      <th>4</th>\n",
       "      <td>1000002</td>\n",
       "      <td>P00285442</td>\n",
       "      <td>M</td>\n",
       "      <td>55+</td>\n",
       "      <td>16</td>\n",
       "      <td>C</td>\n",
       "      <td>4+</td>\n",
       "      <td>0</td>\n",
       "      <td>8</td>\n",
       "      <td>NaN</td>\n",
       "      <td>NaN</td>\n",
       "      <td>7969</td>\n",
       "    </tr>\n",
       "  </tbody>\n",
       "</table>\n",
       "</div>"
      ],
      "text/plain": [
       "   User_ID Product_ID Gender   Age  Occupation City_Category  \\\n",
       "0  1000001  P00069042      F  0-17          10             A   \n",
       "1  1000001  P00248942      F  0-17          10             A   \n",
       "2  1000001  P00087842      F  0-17          10             A   \n",
       "3  1000001  P00085442      F  0-17          10             A   \n",
       "4  1000002  P00285442      M   55+          16             C   \n",
       "\n",
       "  Stay_In_Current_City_Years  Marital_Status  Product_Category_1  \\\n",
       "0                          2               0                   3   \n",
       "1                          2               0                   1   \n",
       "2                          2               0                  12   \n",
       "3                          2               0                  12   \n",
       "4                         4+               0                   8   \n",
       "\n",
       "   Product_Category_2  Product_Category_3  Purchase  \n",
       "0                 NaN                 NaN      8370  \n",
       "1                 6.0                14.0     15200  \n",
       "2                 NaN                 NaN      1422  \n",
       "3                14.0                 NaN      1057  \n",
       "4                 NaN                 NaN      7969  "
      ]
     },
     "execution_count": 3,
     "metadata": {},
     "output_type": "execute_result"
    }
   ],
   "source": [
    "df.head()"
   ]
  },
  {
   "cell_type": "code",
   "execution_count": 4,
   "id": "5b55b656-d210-409d-b392-3d18d479d107",
   "metadata": {},
   "outputs": [
    {
     "data": {
      "text/plain": [
       "User_ID                            0\n",
       "Product_ID                         0\n",
       "Gender                             0\n",
       "Age                                0\n",
       "Occupation                         0\n",
       "City_Category                      0\n",
       "Stay_In_Current_City_Years         0\n",
       "Marital_Status                     0\n",
       "Product_Category_1                 0\n",
       "Product_Category_2            166986\n",
       "Product_Category_3            373299\n",
       "Purchase                           0\n",
       "dtype: int64"
      ]
     },
     "execution_count": 4,
     "metadata": {},
     "output_type": "execute_result"
    }
   ],
   "source": [
    "df.isnull().sum()"
   ]
  },
  {
   "cell_type": "code",
   "execution_count": 5,
   "id": "09726940-1d35-418d-ae56-b61701a76303",
   "metadata": {},
   "outputs": [],
   "source": [
    "df.drop(\"Product_Category_2\",axis=1,inplace=True)\n",
    "df.drop(\"Product_Category_3\",axis=1,inplace=True)"
   ]
  },
  {
   "cell_type": "code",
   "execution_count": 6,
   "id": "de73aa3b-698a-4c1e-a78c-2e0453d60757",
   "metadata": {},
   "outputs": [
    {
     "data": {
      "text/html": [
       "<div>\n",
       "<style scoped>\n",
       "    .dataframe tbody tr th:only-of-type {\n",
       "        vertical-align: middle;\n",
       "    }\n",
       "\n",
       "    .dataframe tbody tr th {\n",
       "        vertical-align: top;\n",
       "    }\n",
       "\n",
       "    .dataframe thead th {\n",
       "        text-align: right;\n",
       "    }\n",
       "</style>\n",
       "<table border=\"1\" class=\"dataframe\">\n",
       "  <thead>\n",
       "    <tr style=\"text-align: right;\">\n",
       "      <th></th>\n",
       "      <th>User_ID</th>\n",
       "      <th>Product_ID</th>\n",
       "      <th>Gender</th>\n",
       "      <th>Age</th>\n",
       "      <th>Occupation</th>\n",
       "      <th>City_Category</th>\n",
       "      <th>Stay_In_Current_City_Years</th>\n",
       "      <th>Marital_Status</th>\n",
       "      <th>Product_Category_1</th>\n",
       "      <th>Purchase</th>\n",
       "    </tr>\n",
       "  </thead>\n",
       "  <tbody>\n",
       "    <tr>\n",
       "      <th>0</th>\n",
       "      <td>1000001</td>\n",
       "      <td>P00069042</td>\n",
       "      <td>F</td>\n",
       "      <td>0-17</td>\n",
       "      <td>10</td>\n",
       "      <td>A</td>\n",
       "      <td>2</td>\n",
       "      <td>0</td>\n",
       "      <td>3</td>\n",
       "      <td>8370</td>\n",
       "    </tr>\n",
       "    <tr>\n",
       "      <th>1</th>\n",
       "      <td>1000001</td>\n",
       "      <td>P00248942</td>\n",
       "      <td>F</td>\n",
       "      <td>0-17</td>\n",
       "      <td>10</td>\n",
       "      <td>A</td>\n",
       "      <td>2</td>\n",
       "      <td>0</td>\n",
       "      <td>1</td>\n",
       "      <td>15200</td>\n",
       "    </tr>\n",
       "    <tr>\n",
       "      <th>2</th>\n",
       "      <td>1000001</td>\n",
       "      <td>P00087842</td>\n",
       "      <td>F</td>\n",
       "      <td>0-17</td>\n",
       "      <td>10</td>\n",
       "      <td>A</td>\n",
       "      <td>2</td>\n",
       "      <td>0</td>\n",
       "      <td>12</td>\n",
       "      <td>1422</td>\n",
       "    </tr>\n",
       "    <tr>\n",
       "      <th>3</th>\n",
       "      <td>1000001</td>\n",
       "      <td>P00085442</td>\n",
       "      <td>F</td>\n",
       "      <td>0-17</td>\n",
       "      <td>10</td>\n",
       "      <td>A</td>\n",
       "      <td>2</td>\n",
       "      <td>0</td>\n",
       "      <td>12</td>\n",
       "      <td>1057</td>\n",
       "    </tr>\n",
       "    <tr>\n",
       "      <th>4</th>\n",
       "      <td>1000002</td>\n",
       "      <td>P00285442</td>\n",
       "      <td>M</td>\n",
       "      <td>55+</td>\n",
       "      <td>16</td>\n",
       "      <td>C</td>\n",
       "      <td>4+</td>\n",
       "      <td>0</td>\n",
       "      <td>8</td>\n",
       "      <td>7969</td>\n",
       "    </tr>\n",
       "  </tbody>\n",
       "</table>\n",
       "</div>"
      ],
      "text/plain": [
       "   User_ID Product_ID Gender   Age  Occupation City_Category  \\\n",
       "0  1000001  P00069042      F  0-17          10             A   \n",
       "1  1000001  P00248942      F  0-17          10             A   \n",
       "2  1000001  P00087842      F  0-17          10             A   \n",
       "3  1000001  P00085442      F  0-17          10             A   \n",
       "4  1000002  P00285442      M   55+          16             C   \n",
       "\n",
       "  Stay_In_Current_City_Years  Marital_Status  Product_Category_1  Purchase  \n",
       "0                          2               0                   3      8370  \n",
       "1                          2               0                   1     15200  \n",
       "2                          2               0                  12      1422  \n",
       "3                          2               0                  12      1057  \n",
       "4                         4+               0                   8      7969  "
      ]
     },
     "execution_count": 6,
     "metadata": {},
     "output_type": "execute_result"
    }
   ],
   "source": [
    "df.head()"
   ]
  },
  {
   "cell_type": "code",
   "execution_count": 7,
   "id": "3bce57e6-c620-45d8-9001-16c46c413ec6",
   "metadata": {},
   "outputs": [
    {
     "data": {
      "text/plain": [
       "User_ID                       0\n",
       "Product_ID                    0\n",
       "Gender                        0\n",
       "Age                           0\n",
       "Occupation                    0\n",
       "City_Category                 0\n",
       "Stay_In_Current_City_Years    0\n",
       "Marital_Status                0\n",
       "Product_Category_1            0\n",
       "Purchase                      0\n",
       "dtype: int64"
      ]
     },
     "execution_count": 7,
     "metadata": {},
     "output_type": "execute_result"
    }
   ],
   "source": [
    "df.isnull().sum()"
   ]
  },
  {
   "cell_type": "markdown",
   "id": "63e8282d-e1ee-4836-80a0-d9730101c68d",
   "metadata": {},
   "source": [
    "# Analyse the columns"
   ]
  },
  {
   "cell_type": "code",
   "execution_count": 8,
   "id": "a44b8d17-11b4-4c8e-acbf-bfd2a447f069",
   "metadata": {},
   "outputs": [
    {
     "name": "stdout",
     "output_type": "stream",
     "text": [
      "<class 'pandas.core.frame.DataFrame'>\n",
      "RangeIndex: 537577 entries, 0 to 537576\n",
      "Data columns (total 10 columns):\n",
      " #   Column                      Non-Null Count   Dtype \n",
      "---  ------                      --------------   ----- \n",
      " 0   User_ID                     537577 non-null  int64 \n",
      " 1   Product_ID                  537577 non-null  object\n",
      " 2   Gender                      537577 non-null  object\n",
      " 3   Age                         537577 non-null  object\n",
      " 4   Occupation                  537577 non-null  int64 \n",
      " 5   City_Category               537577 non-null  object\n",
      " 6   Stay_In_Current_City_Years  537577 non-null  object\n",
      " 7   Marital_Status              537577 non-null  int64 \n",
      " 8   Product_Category_1          537577 non-null  int64 \n",
      " 9   Purchase                    537577 non-null  int64 \n",
      "dtypes: int64(5), object(5)\n",
      "memory usage: 41.0+ MB\n"
     ]
    }
   ],
   "source": [
    "df.info()"
   ]
  },
  {
   "cell_type": "code",
   "execution_count": 9,
   "id": "38a0c654-0236-495e-90b5-4a926c6c24c7",
   "metadata": {},
   "outputs": [
    {
     "data": {
      "text/plain": [
       "array([1000001, 1000002, 1000003, ..., 1004113, 1005391, 1001529],\n",
       "      dtype=int64)"
      ]
     },
     "execution_count": 9,
     "metadata": {},
     "output_type": "execute_result"
    }
   ],
   "source": [
    "df[\"User_ID\"].unique()"
   ]
  },
  {
   "cell_type": "code",
   "execution_count": 10,
   "id": "9b799f58-4466-454c-8334-0ffc1efa7830",
   "metadata": {},
   "outputs": [
    {
     "data": {
      "text/plain": [
       "array(['P00069042', 'P00248942', 'P00087842', ..., 'P00038842',\n",
       "       'P00295642', 'P00091742'], dtype=object)"
      ]
     },
     "execution_count": 10,
     "metadata": {},
     "output_type": "execute_result"
    }
   ],
   "source": [
    "df[\"Product_ID\"].unique()"
   ]
  },
  {
   "cell_type": "code",
   "execution_count": 11,
   "id": "14c0d87b-39b5-47ad-b7c8-cb3b319b3e3d",
   "metadata": {},
   "outputs": [
    {
     "data": {
      "text/plain": [
       "array(['F', 'M'], dtype=object)"
      ]
     },
     "execution_count": 11,
     "metadata": {},
     "output_type": "execute_result"
    }
   ],
   "source": [
    "df[\"Gender\"].unique()"
   ]
  },
  {
   "cell_type": "code",
   "execution_count": 12,
   "id": "11827b32-b5ce-4092-9ada-eee1618c5af7",
   "metadata": {},
   "outputs": [
    {
     "data": {
      "text/plain": [
       "array(['0-17', '55+', '26-35', '46-50', '51-55', '36-45', '18-25'],\n",
       "      dtype=object)"
      ]
     },
     "execution_count": 12,
     "metadata": {},
     "output_type": "execute_result"
    }
   ],
   "source": [
    "df[\"Age\"].unique()"
   ]
  },
  {
   "cell_type": "code",
   "execution_count": 13,
   "id": "ffdb8fe2-d239-4af7-a6d1-b329e1d7b09e",
   "metadata": {},
   "outputs": [
    {
     "data": {
      "text/plain": [
       "array([10, 16, 15,  7, 20,  9,  1, 12, 17,  0,  3,  4, 11,  8, 19,  2, 18,\n",
       "        5, 14, 13,  6], dtype=int64)"
      ]
     },
     "execution_count": 13,
     "metadata": {},
     "output_type": "execute_result"
    }
   ],
   "source": [
    "df[\"Occupation\"].unique()"
   ]
  },
  {
   "cell_type": "code",
   "execution_count": 14,
   "id": "b00cecef-8c11-4008-93c4-8e4bd0c8f259",
   "metadata": {},
   "outputs": [
    {
     "data": {
      "text/plain": [
       "array(['A', 'C', 'B'], dtype=object)"
      ]
     },
     "execution_count": 14,
     "metadata": {},
     "output_type": "execute_result"
    }
   ],
   "source": [
    "df[\"City_Category\"].unique()"
   ]
  },
  {
   "cell_type": "code",
   "execution_count": 15,
   "id": "7936c8e4-eb64-4651-90eb-5ec6b6e3357e",
   "metadata": {},
   "outputs": [
    {
     "data": {
      "text/plain": [
       "array(['2', '4+', '3', '1', '0'], dtype=object)"
      ]
     },
     "execution_count": 15,
     "metadata": {},
     "output_type": "execute_result"
    }
   ],
   "source": [
    "df[\"Stay_In_Current_City_Years\"].unique()"
   ]
  },
  {
   "cell_type": "code",
   "execution_count": 16,
   "id": "7b9de328-9ab0-4aea-ac2e-5522a54e77bc",
   "metadata": {},
   "outputs": [
    {
     "data": {
      "text/plain": [
       "array([0, 1], dtype=int64)"
      ]
     },
     "execution_count": 16,
     "metadata": {},
     "output_type": "execute_result"
    }
   ],
   "source": [
    "df[\"Marital_Status\"].unique()"
   ]
  },
  {
   "cell_type": "code",
   "execution_count": 17,
   "id": "66f45785-6739-4918-bce2-3197c5c8ba96",
   "metadata": {},
   "outputs": [
    {
     "data": {
      "text/plain": [
       "array([ 3,  1, 12,  8,  5,  4,  2,  6, 14, 11, 13, 15,  7, 16, 18, 10, 17,\n",
       "        9], dtype=int64)"
      ]
     },
     "execution_count": 17,
     "metadata": {},
     "output_type": "execute_result"
    }
   ],
   "source": [
    "df[\"Product_Category_1\"].unique()"
   ]
  },
  {
   "cell_type": "code",
   "execution_count": 18,
   "id": "9acf7dcd-9157-471e-b754-70c1281a9cb7",
   "metadata": {},
   "outputs": [
    {
     "data": {
      "text/plain": [
       "5017668378"
      ]
     },
     "execution_count": 18,
     "metadata": {},
     "output_type": "execute_result"
    }
   ],
   "source": [
    "df[\"Purchase\"].sum()"
   ]
  },
  {
   "cell_type": "code",
   "execution_count": 19,
   "id": "2d97f4f0-6a21-4302-b5d5-a58a5ea4be03",
   "metadata": {},
   "outputs": [
    {
     "data": {
      "text/plain": [
       "9333.859852635065"
      ]
     },
     "execution_count": 19,
     "metadata": {},
     "output_type": "execute_result"
    }
   ],
   "source": [
    "df[\"Purchase\"].sum()/len(df[\"Purchase\"])"
   ]
  },
  {
   "cell_type": "code",
   "execution_count": 20,
   "id": "6174aa3a-be57-4b6f-a530-95330204cdcc",
   "metadata": {},
   "outputs": [
    {
     "name": "stdout",
     "output_type": "stream",
     "text": [
      "User_ID 5891\n",
      "Product_ID 3623\n",
      "Gender 2\n",
      "Age 7\n",
      "Occupation 21\n",
      "City_Category 3\n",
      "Stay_In_Current_City_Years 5\n",
      "Marital_Status 2\n",
      "Product_Category_1 18\n",
      "Purchase 17959\n"
     ]
    }
   ],
   "source": [
    "for column in df.columns:\n",
    "    print(column,df[column].nunique())"
   ]
  },
  {
   "cell_type": "markdown",
   "id": "700c9efb-9246-4e7f-b508-5218f6ad5edf",
   "metadata": {},
   "source": [
    "# Analysing Gender"
   ]
  },
  {
   "cell_type": "code",
   "execution_count": 21,
   "id": "ce0cf218-a9c0-45f2-9cf0-9c3bfa1b9680",
   "metadata": {},
   "outputs": [
    {
     "data": {
      "text/plain": [
       "Gender\n",
       "M    405380\n",
       "F    132197\n",
       "Name: count, dtype: int64"
      ]
     },
     "execution_count": 21,
     "metadata": {},
     "output_type": "execute_result"
    }
   ],
   "source": [
    "df[\"Gender\"].value_counts()"
   ]
  },
  {
   "cell_type": "code",
   "execution_count": 22,
   "id": "843794fb-8866-4886-8829-ab87c2cd58c0",
   "metadata": {},
   "outputs": [
    {
     "data": {
      "text/plain": [
       "<Axes: ylabel='count'>"
      ]
     },
     "execution_count": 22,
     "metadata": {},
     "output_type": "execute_result"
    },
    {
     "data": {
      "image/png": "[encoded data removed]",
      "text/plain": [
       "<Figure size 640x480 with 1 Axes>"
      ]
     },
     "metadata": {},
     "output_type": "display_data"
    }
   ],
   "source": [
    "df[\"Gender\"].value_counts().plot(kind=\"pie\",autopct=\"%0.2f\")"
   ]
  },
  {
   "cell_type": "code",
   "execution_count": 23,
   "id": "d503354b-425f-44d0-a233-31664771108f",
   "metadata": {},
   "outputs": [
    {
     "data": {
      "text/plain": [
       "<Axes: xlabel='Gender'>"
      ]
     },
     "execution_count": 23,
     "metadata": {},
     "output_type": "execute_result"
    },
    {
     "data": {
      "image/png": "[encoded data removed]",
      "text/plain": [
       "<Figure size 640x480 with 1 Axes>"
      ]
     },
     "metadata": {},
     "output_type": "display_data"
    }
   ],
   "source": [
    "df[\"Gender\"].value_counts().plot(kind=\"bar\")"
   ]
  },
  {
   "cell_type": "code",
   "execution_count": 24,
   "id": "ba6ca7cf-4a35-4d81-84c2-a1a6f4051f2a",
   "metadata": {},
   "outputs": [
    {
     "data": {
      "text/plain": [
       "Gender\n",
       "F    132197\n",
       "M    405380\n",
       "dtype: int64"
      ]
     },
     "execution_count": 24,
     "metadata": {},
     "output_type": "execute_result"
    }
   ],
   "source": [
    "df.groupby(\"Gender\").size()"
   ]
  },
  {
   "cell_type": "code",
   "execution_count": 25,
   "id": "25be546a-511a-4950-8984-db81ccaa6c4d",
   "metadata": {},
   "outputs": [
    {
     "data": {
      "text/plain": [
       "<Axes: >"
      ]
     },
     "execution_count": 25,
     "metadata": {},
     "output_type": "execute_result"
    },
    {
     "data": {
      "image/png": "[encoded data removed]",
      "text/plain": [
       "<Figure size 640x480 with 1 Axes>"
      ]
     },
     "metadata": {},
     "output_type": "display_data"
    }
   ],
   "source": [
    "df.groupby(\"Gender\").size().plot(kind=\"pie\",autopct=\"%0.2f\")"
   ]
  },
  {
   "cell_type": "code",
   "execution_count": 26,
   "id": "c2e1e58a-d793-4088-9294-239acd4965fe",
   "metadata": {},
   "outputs": [
    {
     "data": {
      "text/plain": [
       "2"
      ]
     },
     "execution_count": 26,
     "metadata": {},
     "output_type": "execute_result"
    }
   ],
   "source": [
    "df[\"Gender\"].nunique()"
   ]
  },
  {
   "cell_type": "markdown",
   "id": "a0e0763a-0854-4b54-8a37-98eee6086096",
   "metadata": {},
   "source": [
    "df.groupby(\"Gender\").sum()[\"Purchase\"]"
   ]
  },
  {
   "cell_type": "raw",
   "id": "650c68c2-f867-4398-bc7e-bed9d21c8c81",
   "metadata": {},
   "source": [
    "df.groupby(\"Gender\").mean()[\"Purchase\"]"
   ]
  },
  {
   "cell_type": "raw",
   "id": "102c23bb-833c-4ce9-af7f-825ad4852eae",
   "metadata": {},
   "source": [
    "df.groupby(\"Gender\").sum()[\"Purchase\"].plot(kind=\"pie\")"
   ]
  },
  {
   "cell_type": "raw",
   "id": "6cc619af-46c4-44f7-89c7-80ae60808125",
   "metadata": {},
   "source": [
    "df.groupby(\"Gender\").mean()[\"Purchase\"].plot(kind=\"bar\")"
   ]
  },
  {
   "cell_type": "markdown",
   "id": "8ad7b58b-5b69-4846-a762-87feff498cad",
   "metadata": {},
   "source": [
    "# Analysing Age and Maital Status"
   ]
  },
  {
   "cell_type": "code",
   "execution_count": 27,
   "id": "d9f3f363-069b-4ebd-b9c2-91878b2bcaeb",
   "metadata": {},
   "outputs": [
    {
     "data": {
      "text/plain": [
       "7"
      ]
     },
     "execution_count": 27,
     "metadata": {},
     "output_type": "execute_result"
    }
   ],
   "source": [
    "df[\"Age\"].nunique()"
   ]
  },
  {
   "cell_type": "code",
   "execution_count": 28,
   "id": "ad07d7dd-1da8-4026-96c2-1073b703f93c",
   "metadata": {},
   "outputs": [
    {
     "data": {
      "text/plain": [
       "array(['0-17', '55+', '26-35', '46-50', '51-55', '36-45', '18-25'],\n",
       "      dtype=object)"
      ]
     },
     "execution_count": 28,
     "metadata": {},
     "output_type": "execute_result"
    }
   ],
   "source": [
    "df[\"Age\"].unique()"
   ]
  },
  {
   "cell_type": "code",
   "execution_count": 29,
   "id": "741a656f-65d3-405a-a7e4-1668ed9aec3a",
   "metadata": {},
   "outputs": [
    {
     "data": {
      "text/plain": [
       "<Axes: xlabel='Age'>"
      ]
     },
     "execution_count": 29,
     "metadata": {},
     "output_type": "execute_result"
    },
    {
     "data": {
      "image/png": "[encoded data removed]",
      "text/plain": [
       "<Figure size 640x480 with 1 Axes>"
      ]
     },
     "metadata": {},
     "output_type": "display_data"
    }
   ],
   "source": [
    "df.groupby(\"Age\").size().plot(kind=\"bar\")"
   ]
  },
  {
   "cell_type": "code",
   "execution_count": 30,
   "id": "5004711a-6d58-4355-b301-a443492ff3b6",
   "metadata": {},
   "outputs": [
    {
     "data": {
      "text/plain": [
       "<Axes: title={'center': 'Amount Spend by Age'}, xlabel='Age'>"
      ]
     },
     "execution_count": 30,
     "metadata": {},
     "output_type": "execute_result"
    },
    {
     "data": {
      "image/png": "[encoded data removed]",
      "text/plain": [
       "<Figure size 1200x600 with 1 Axes>"
      ]
     },
     "metadata": {},
     "output_type": "display_data"
    }
   ],
   "source": [
    "df.groupby('Age').sum()['Purchase'].plot(kind = 'bar', figsize = (12, 6), title = 'Amount Spend by Age')"
   ]
  },
  {
   "cell_type": "code",
   "execution_count": 31,
   "id": "1bbbf268-5c31-4742-b231-1ce62fee127f",
   "metadata": {},
   "outputs": [
    {
     "data": {
      "text/plain": [
       "Age\n",
       "0-17      14707\n",
       "18-25     97634\n",
       "26-35    214690\n",
       "36-45    107499\n",
       "46-50     44526\n",
       "51-55     37618\n",
       "55+       20903\n",
       "Name: Product_Category_1, dtype: int64"
      ]
     },
     "execution_count": 31,
     "metadata": {},
     "output_type": "execute_result"
    }
   ],
   "source": [
    "df.groupby(\"Age\").count()[\"Product_Category_1\"]"
   ]
  },
  {
   "cell_type": "code",
   "execution_count": 32,
   "id": "84ad70e9-389c-4fec-a438-5220aa107a08",
   "metadata": {},
   "outputs": [
    {
     "data": {
      "text/html": [
       "<div>\n",
       "<style scoped>\n",
       "    .dataframe tbody tr th:only-of-type {\n",
       "        vertical-align: middle;\n",
       "    }\n",
       "\n",
       "    .dataframe tbody tr th {\n",
       "        vertical-align: top;\n",
       "    }\n",
       "\n",
       "    .dataframe thead th {\n",
       "        text-align: right;\n",
       "    }\n",
       "</style>\n",
       "<table border=\"1\" class=\"dataframe\">\n",
       "  <thead>\n",
       "    <tr style=\"text-align: right;\">\n",
       "      <th></th>\n",
       "      <th>User_ID</th>\n",
       "      <th>Product_ID</th>\n",
       "      <th>Gender</th>\n",
       "      <th>Occupation</th>\n",
       "      <th>City_Category</th>\n",
       "      <th>Stay_In_Current_City_Years</th>\n",
       "      <th>Marital_Status</th>\n",
       "      <th>Product_Category_1</th>\n",
       "      <th>Purchase</th>\n",
       "    </tr>\n",
       "    <tr>\n",
       "      <th>Age</th>\n",
       "      <th></th>\n",
       "      <th></th>\n",
       "      <th></th>\n",
       "      <th></th>\n",
       "      <th></th>\n",
       "      <th></th>\n",
       "      <th></th>\n",
       "      <th></th>\n",
       "      <th></th>\n",
       "    </tr>\n",
       "  </thead>\n",
       "  <tbody>\n",
       "    <tr>\n",
       "      <th>0-17</th>\n",
       "      <td>14707</td>\n",
       "      <td>14707</td>\n",
       "      <td>14707</td>\n",
       "      <td>14707</td>\n",
       "      <td>14707</td>\n",
       "      <td>14707</td>\n",
       "      <td>14707</td>\n",
       "      <td>14707</td>\n",
       "      <td>14707</td>\n",
       "    </tr>\n",
       "    <tr>\n",
       "      <th>18-25</th>\n",
       "      <td>97634</td>\n",
       "      <td>97634</td>\n",
       "      <td>97634</td>\n",
       "      <td>97634</td>\n",
       "      <td>97634</td>\n",
       "      <td>97634</td>\n",
       "      <td>97634</td>\n",
       "      <td>97634</td>\n",
       "      <td>97634</td>\n",
       "    </tr>\n",
       "    <tr>\n",
       "      <th>26-35</th>\n",
       "      <td>214690</td>\n",
       "      <td>214690</td>\n",
       "      <td>214690</td>\n",
       "      <td>214690</td>\n",
       "      <td>214690</td>\n",
       "      <td>214690</td>\n",
       "      <td>214690</td>\n",
       "      <td>214690</td>\n",
       "      <td>214690</td>\n",
       "    </tr>\n",
       "    <tr>\n",
       "      <th>36-45</th>\n",
       "      <td>107499</td>\n",
       "      <td>107499</td>\n",
       "      <td>107499</td>\n",
       "      <td>107499</td>\n",
       "      <td>107499</td>\n",
       "      <td>107499</td>\n",
       "      <td>107499</td>\n",
       "      <td>107499</td>\n",
       "      <td>107499</td>\n",
       "    </tr>\n",
       "    <tr>\n",
       "      <th>46-50</th>\n",
       "      <td>44526</td>\n",
       "      <td>44526</td>\n",
       "      <td>44526</td>\n",
       "      <td>44526</td>\n",
       "      <td>44526</td>\n",
       "      <td>44526</td>\n",
       "      <td>44526</td>\n",
       "      <td>44526</td>\n",
       "      <td>44526</td>\n",
       "    </tr>\n",
       "    <tr>\n",
       "      <th>51-55</th>\n",
       "      <td>37618</td>\n",
       "      <td>37618</td>\n",
       "      <td>37618</td>\n",
       "      <td>37618</td>\n",
       "      <td>37618</td>\n",
       "      <td>37618</td>\n",
       "      <td>37618</td>\n",
       "      <td>37618</td>\n",
       "      <td>37618</td>\n",
       "    </tr>\n",
       "    <tr>\n",
       "      <th>55+</th>\n",
       "      <td>20903</td>\n",
       "      <td>20903</td>\n",
       "      <td>20903</td>\n",
       "      <td>20903</td>\n",
       "      <td>20903</td>\n",
       "      <td>20903</td>\n",
       "      <td>20903</td>\n",
       "      <td>20903</td>\n",
       "      <td>20903</td>\n",
       "    </tr>\n",
       "  </tbody>\n",
       "</table>\n",
       "</div>"
      ],
      "text/plain": [
       "       User_ID  Product_ID  Gender  Occupation  City_Category  \\\n",
       "Age                                                             \n",
       "0-17     14707       14707   14707       14707          14707   \n",
       "18-25    97634       97634   97634       97634          97634   \n",
       "26-35   214690      214690  214690      214690         214690   \n",
       "36-45   107499      107499  107499      107499         107499   \n",
       "46-50    44526       44526   44526       44526          44526   \n",
       "51-55    37618       37618   37618       37618          37618   \n",
       "55+      20903       20903   20903       20903          20903   \n",
       "\n",
       "       Stay_In_Current_City_Years  Marital_Status  Product_Category_1  \\\n",
       "Age                                                                     \n",
       "0-17                        14707           14707               14707   \n",
       "18-25                       97634           97634               97634   \n",
       "26-35                      214690          214690              214690   \n",
       "36-45                      107499          107499              107499   \n",
       "46-50                       44526           44526               44526   \n",
       "51-55                       37618           37618               37618   \n",
       "55+                         20903           20903               20903   \n",
       "\n",
       "       Purchase  \n",
       "Age              \n",
       "0-17      14707  \n",
       "18-25     97634  \n",
       "26-35    214690  \n",
       "36-45    107499  \n",
       "46-50     44526  \n",
       "51-55     37618  \n",
       "55+       20903  "
      ]
     },
     "execution_count": 32,
     "metadata": {},
     "output_type": "execute_result"
    }
   ],
   "source": [
    "df.groupby(\"Age\").count()"
   ]
  },
  {
   "cell_type": "code",
   "execution_count": 33,
   "id": "92d0596d-b5a0-40d2-8a66-4e4bc2d1451e",
   "metadata": {},
   "outputs": [
    {
     "data": {
      "text/plain": [
       "<Axes: >"
      ]
     },
     "execution_count": 33,
     "metadata": {},
     "output_type": "execute_result"
    },
    {
     "data": {
      "image/png": "[encoded data removed]",
      "text/plain": [
       "<Figure size 640x480 with 1 Axes>"
      ]
     },
     "metadata": {},
     "output_type": "display_data"
    }
   ],
   "source": [
    "df.groupby(\"Marital_Status\").size().plot(kind=\"pie\",autopct=\"%0.2f\")"
   ]
  },
  {
   "cell_type": "code",
   "execution_count": 3,
   "id": "73c6959a-9544-4f4d-91cf-8cb828ffce33",
   "metadata": {},
   "outputs": [
    {
     "data": {
      "text/plain": [
       "4"
      ]
     },
     "execution_count": 3,
     "metadata": {},
     "output_type": "execute_result"
    }
   ],
   "source": [
    "df[\"Age\"].idxmax()"
   ]
  },
  {
   "cell_type": "code",
   "execution_count": 4,
   "id": "4f1af3f4-de7e-4c9c-b74d-0b1fd6238e31",
   "metadata": {},
   "outputs": [
    {
     "data": {
      "text/plain": [
       "'C'"
      ]
     },
     "execution_count": 4,
     "metadata": {},
     "output_type": "execute_result"
    }
   ],
   "source": [
    "df.loc[df[\"Age\"].idxmax(),\"City_Category\"]"
   ]
  },
  {
   "cell_type": "code",
   "execution_count": 5,
   "id": "f058de32-c8ca-40fd-a7ae-eeaa5974fdc1",
   "metadata": {},
   "outputs": [
    {
     "data": {
      "text/plain": [
       "Age\n",
       "0-17      14707\n",
       "18-25     97634\n",
       "26-35    214690\n",
       "36-45    107499\n",
       "46-50     44526\n",
       "51-55     37618\n",
       "55+       20903\n",
       "dtype: int64"
      ]
     },
     "execution_count": 5,
     "metadata": {},
     "output_type": "execute_result"
    }
   ],
   "source": [
    "df.groupby(\"Age\").size()"
   ]
  },
  {
   "cell_type": "code",
   "execution_count": 6,
   "id": "25760e07-eb37-4687-9ed2-be27249413c3",
   "metadata": {},
   "outputs": [
    {
     "data": {
      "text/html": [
       "<div>\n",
       "<style scoped>\n",
       "    .dataframe tbody tr th:only-of-type {\n",
       "        vertical-align: middle;\n",
       "    }\n",
       "\n",
       "    .dataframe tbody tr th {\n",
       "        vertical-align: top;\n",
       "    }\n",
       "\n",
       "    .dataframe thead th {\n",
       "        text-align: right;\n",
       "    }\n",
       "</style>\n",
       "<table border=\"1\" class=\"dataframe\">\n",
       "  <thead>\n",
       "    <tr style=\"text-align: right;\">\n",
       "      <th></th>\n",
       "      <th>User_ID</th>\n",
       "      <th>Product_ID</th>\n",
       "      <th>Gender</th>\n",
       "      <th>Occupation</th>\n",
       "      <th>City_Category</th>\n",
       "      <th>Stay_In_Current_City_Years</th>\n",
       "      <th>Marital_Status</th>\n",
       "      <th>Product_Category_1</th>\n",
       "      <th>Product_Category_2</th>\n",
       "      <th>Product_Category_3</th>\n",
       "      <th>Purchase</th>\n",
       "    </tr>\n",
       "    <tr>\n",
       "      <th>Age</th>\n",
       "      <th></th>\n",
       "      <th></th>\n",
       "      <th></th>\n",
       "      <th></th>\n",
       "      <th></th>\n",
       "      <th></th>\n",
       "      <th></th>\n",
       "      <th></th>\n",
       "      <th></th>\n",
       "      <th></th>\n",
       "      <th></th>\n",
       "    </tr>\n",
       "  </thead>\n",
       "  <tbody>\n",
       "    <tr>\n",
       "      <th>0-17</th>\n",
       "      <td>38970</td>\n",
       "      <td>84609</td>\n",
       "      <td>85</td>\n",
       "      <td>4526</td>\n",
       "      <td>299</td>\n",
       "      <td>423</td>\n",
       "      <td>0</td>\n",
       "      <td>6793</td>\n",
       "      <td>2242</td>\n",
       "      <td>7850</td>\n",
       "      <td>388010</td>\n",
       "    </tr>\n",
       "    <tr>\n",
       "      <th>18-25</th>\n",
       "      <td>39104</td>\n",
       "      <td>146596</td>\n",
       "      <td>97</td>\n",
       "      <td>726</td>\n",
       "      <td>127</td>\n",
       "      <td>98</td>\n",
       "      <td>262</td>\n",
       "      <td>3207</td>\n",
       "      <td>5422</td>\n",
       "      <td>926</td>\n",
       "      <td>229329</td>\n",
       "    </tr>\n",
       "    <tr>\n",
       "      <th>26-35</th>\n",
       "      <td>39169</td>\n",
       "      <td>357938</td>\n",
       "      <td>5</td>\n",
       "      <td>9</td>\n",
       "      <td>19</td>\n",
       "      <td>19</td>\n",
       "      <td>9</td>\n",
       "      <td>304</td>\n",
       "      <td>2405</td>\n",
       "      <td>142</td>\n",
       "      <td>87440</td>\n",
       "    </tr>\n",
       "    <tr>\n",
       "      <th>36-45</th>\n",
       "      <td>39094</td>\n",
       "      <td>324997</td>\n",
       "      <td>18</td>\n",
       "      <td>335</td>\n",
       "      <td>55</td>\n",
       "      <td>29</td>\n",
       "      <td>18</td>\n",
       "      <td>2167</td>\n",
       "      <td>1301</td>\n",
       "      <td>837</td>\n",
       "      <td>503697</td>\n",
       "    </tr>\n",
       "    <tr>\n",
       "      <th>46-50</th>\n",
       "      <td>39161</td>\n",
       "      <td>52822</td>\n",
       "      <td>6</td>\n",
       "      <td>1434</td>\n",
       "      <td>52</td>\n",
       "      <td>189</td>\n",
       "      <td>6</td>\n",
       "      <td>2781</td>\n",
       "      <td>3448</td>\n",
       "      <td>2565</td>\n",
       "      <td>292083</td>\n",
       "    </tr>\n",
       "    <tr>\n",
       "      <th>51-55</th>\n",
       "      <td>39113</td>\n",
       "      <td>19326</td>\n",
       "      <td>67</td>\n",
       "      <td>868</td>\n",
       "      <td>67</td>\n",
       "      <td>333</td>\n",
       "      <td>333</td>\n",
       "      <td>796</td>\n",
       "      <td>2802</td>\n",
       "      <td>6059</td>\n",
       "      <td>349658</td>\n",
       "    </tr>\n",
       "    <tr>\n",
       "      <th>55+</th>\n",
       "      <td>155550</td>\n",
       "      <td>65948</td>\n",
       "      <td>4</td>\n",
       "      <td>2322</td>\n",
       "      <td>4</td>\n",
       "      <td>4</td>\n",
       "      <td>451</td>\n",
       "      <td>1559</td>\n",
       "      <td>10086</td>\n",
       "      <td>1560</td>\n",
       "      <td>321782</td>\n",
       "    </tr>\n",
       "  </tbody>\n",
       "</table>\n",
       "</div>"
      ],
      "text/plain": [
       "       User_ID  Product_ID  Gender  Occupation  City_Category  \\\n",
       "Age                                                             \n",
       "0-17     38970       84609      85        4526            299   \n",
       "18-25    39104      146596      97         726            127   \n",
       "26-35    39169      357938       5           9             19   \n",
       "36-45    39094      324997      18         335             55   \n",
       "46-50    39161       52822       6        1434             52   \n",
       "51-55    39113       19326      67         868             67   \n",
       "55+     155550       65948       4        2322              4   \n",
       "\n",
       "       Stay_In_Current_City_Years  Marital_Status  Product_Category_1  \\\n",
       "Age                                                                     \n",
       "0-17                          423               0                6793   \n",
       "18-25                          98             262                3207   \n",
       "26-35                          19               9                 304   \n",
       "36-45                          29              18                2167   \n",
       "46-50                         189               6                2781   \n",
       "51-55                         333             333                 796   \n",
       "55+                             4             451                1559   \n",
       "\n",
       "       Product_Category_2  Product_Category_3  Purchase  \n",
       "Age                                                      \n",
       "0-17                 2242                7850    388010  \n",
       "18-25                5422                 926    229329  \n",
       "26-35                2405                 142     87440  \n",
       "36-45                1301                 837    503697  \n",
       "46-50                3448                2565    292083  \n",
       "51-55                2802                6059    349658  \n",
       "55+                 10086                1560    321782  "
      ]
     },
     "execution_count": 6,
     "metadata": {},
     "output_type": "execute_result"
    }
   ],
   "source": [
    "df.groupby(\"Age\").idxmax()"
   ]
  },
  {
   "cell_type": "code",
   "execution_count": 8,
   "id": "9744d041-2fb6-44f7-bc77-96e2ef265fa2",
   "metadata": {},
   "outputs": [
    {
     "data": {
      "text/plain": [
       "City_Category  Age  \n",
       "A              0-17      2497\n",
       "               18-25    27025\n",
       "               26-35    72048\n",
       "               36-45    26142\n",
       "               46-50     7467\n",
       "               51-55     5969\n",
       "               55+       3490\n",
       "B              0-17      5288\n",
       "               18-25    42470\n",
       "               26-35    89767\n",
       "               36-45    46605\n",
       "               46-50    19900\n",
       "               51-55    17435\n",
       "               55+       5028\n",
       "C              0-17      6922\n",
       "               18-25    28139\n",
       "               26-35    52875\n",
       "               36-45    34752\n",
       "               46-50    17159\n",
       "               51-55    14214\n",
       "               55+      12385\n",
       "dtype: int64"
      ]
     },
     "execution_count": 8,
     "metadata": {},
     "output_type": "execute_result"
    }
   ],
   "source": [
    "df.groupby([\"City_Category\",\"Age\"]).size()"
   ]
  },
  {
   "cell_type": "code",
   "execution_count": 9,
   "id": "9a5f78db-2cce-4dda-a62e-801139e42bcc",
   "metadata": {},
   "outputs": [
    {
     "data": {
      "text/html": [
       "<div>\n",
       "<style scoped>\n",
       "    .dataframe tbody tr th:only-of-type {\n",
       "        vertical-align: middle;\n",
       "    }\n",
       "\n",
       "    .dataframe tbody tr th {\n",
       "        vertical-align: top;\n",
       "    }\n",
       "\n",
       "    .dataframe thead th {\n",
       "        text-align: right;\n",
       "    }\n",
       "</style>\n",
       "<table border=\"1\" class=\"dataframe\">\n",
       "  <thead>\n",
       "    <tr style=\"text-align: right;\">\n",
       "      <th></th>\n",
       "      <th></th>\n",
       "      <th>User_ID</th>\n",
       "      <th>Product_ID</th>\n",
       "      <th>Gender</th>\n",
       "      <th>Occupation</th>\n",
       "      <th>Stay_In_Current_City_Years</th>\n",
       "      <th>Marital_Status</th>\n",
       "      <th>Product_Category_1</th>\n",
       "      <th>Product_Category_2</th>\n",
       "      <th>Product_Category_3</th>\n",
       "      <th>Purchase</th>\n",
       "    </tr>\n",
       "    <tr>\n",
       "      <th>Age</th>\n",
       "      <th>City_Category</th>\n",
       "      <th></th>\n",
       "      <th></th>\n",
       "      <th></th>\n",
       "      <th></th>\n",
       "      <th></th>\n",
       "      <th></th>\n",
       "      <th></th>\n",
       "      <th></th>\n",
       "      <th></th>\n",
       "      <th></th>\n",
       "    </tr>\n",
       "  </thead>\n",
       "  <tbody>\n",
       "    <tr>\n",
       "      <th rowspan=\"3\" valign=\"top\">0-17</th>\n",
       "      <th>A</th>\n",
       "      <td>1005302</td>\n",
       "      <td>P0099842</td>\n",
       "      <td>M</td>\n",
       "      <td>19</td>\n",
       "      <td>3</td>\n",
       "      <td>0</td>\n",
       "      <td>18</td>\n",
       "      <td>18.0</td>\n",
       "      <td>18.0</td>\n",
       "      <td>23847</td>\n",
       "    </tr>\n",
       "    <tr>\n",
       "      <th>B</th>\n",
       "      <td>1005953</td>\n",
       "      <td>P0099742</td>\n",
       "      <td>M</td>\n",
       "      <td>19</td>\n",
       "      <td>4+</td>\n",
       "      <td>0</td>\n",
       "      <td>18</td>\n",
       "      <td>18.0</td>\n",
       "      <td>18.0</td>\n",
       "      <td>23953</td>\n",
       "    </tr>\n",
       "    <tr>\n",
       "      <th>C</th>\n",
       "      <td>1006006</td>\n",
       "      <td>P0099742</td>\n",
       "      <td>M</td>\n",
       "      <td>19</td>\n",
       "      <td>4+</td>\n",
       "      <td>0</td>\n",
       "      <td>18</td>\n",
       "      <td>18.0</td>\n",
       "      <td>18.0</td>\n",
       "      <td>23955</td>\n",
       "    </tr>\n",
       "    <tr>\n",
       "      <th rowspan=\"3\" valign=\"top\">18-25</th>\n",
       "      <th>A</th>\n",
       "      <td>1006028</td>\n",
       "      <td>P0099942</td>\n",
       "      <td>M</td>\n",
       "      <td>20</td>\n",
       "      <td>4+</td>\n",
       "      <td>1</td>\n",
       "      <td>18</td>\n",
       "      <td>18.0</td>\n",
       "      <td>18.0</td>\n",
       "      <td>23958</td>\n",
       "    </tr>\n",
       "    <tr>\n",
       "      <th>B</th>\n",
       "      <td>1005998</td>\n",
       "      <td>P0099942</td>\n",
       "      <td>M</td>\n",
       "      <td>20</td>\n",
       "      <td>4+</td>\n",
       "      <td>1</td>\n",
       "      <td>18</td>\n",
       "      <td>18.0</td>\n",
       "      <td>18.0</td>\n",
       "      <td>23958</td>\n",
       "    </tr>\n",
       "    <tr>\n",
       "      <th>C</th>\n",
       "      <td>1006031</td>\n",
       "      <td>P0099842</td>\n",
       "      <td>M</td>\n",
       "      <td>20</td>\n",
       "      <td>4+</td>\n",
       "      <td>1</td>\n",
       "      <td>18</td>\n",
       "      <td>18.0</td>\n",
       "      <td>18.0</td>\n",
       "      <td>23952</td>\n",
       "    </tr>\n",
       "    <tr>\n",
       "      <th rowspan=\"3\" valign=\"top\">26-35</th>\n",
       "      <th>A</th>\n",
       "      <td>1006034</td>\n",
       "      <td>P0099942</td>\n",
       "      <td>M</td>\n",
       "      <td>20</td>\n",
       "      <td>4+</td>\n",
       "      <td>1</td>\n",
       "      <td>18</td>\n",
       "      <td>18.0</td>\n",
       "      <td>18.0</td>\n",
       "      <td>23961</td>\n",
       "    </tr>\n",
       "    <tr>\n",
       "      <th>B</th>\n",
       "      <td>1006040</td>\n",
       "      <td>P0099842</td>\n",
       "      <td>M</td>\n",
       "      <td>20</td>\n",
       "      <td>4+</td>\n",
       "      <td>1</td>\n",
       "      <td>18</td>\n",
       "      <td>18.0</td>\n",
       "      <td>18.0</td>\n",
       "      <td>23955</td>\n",
       "    </tr>\n",
       "    <tr>\n",
       "      <th>C</th>\n",
       "      <td>1006035</td>\n",
       "      <td>P0099842</td>\n",
       "      <td>M</td>\n",
       "      <td>20</td>\n",
       "      <td>4+</td>\n",
       "      <td>1</td>\n",
       "      <td>18</td>\n",
       "      <td>18.0</td>\n",
       "      <td>18.0</td>\n",
       "      <td>23961</td>\n",
       "    </tr>\n",
       "    <tr>\n",
       "      <th rowspan=\"3\" valign=\"top\">36-45</th>\n",
       "      <th>A</th>\n",
       "      <td>1005879</td>\n",
       "      <td>P0099942</td>\n",
       "      <td>M</td>\n",
       "      <td>20</td>\n",
       "      <td>4+</td>\n",
       "      <td>1</td>\n",
       "      <td>18</td>\n",
       "      <td>18.0</td>\n",
       "      <td>18.0</td>\n",
       "      <td>23949</td>\n",
       "    </tr>\n",
       "    <tr>\n",
       "      <th>B</th>\n",
       "      <td>1006017</td>\n",
       "      <td>P0099942</td>\n",
       "      <td>M</td>\n",
       "      <td>20</td>\n",
       "      <td>4+</td>\n",
       "      <td>1</td>\n",
       "      <td>18</td>\n",
       "      <td>18.0</td>\n",
       "      <td>18.0</td>\n",
       "      <td>23960</td>\n",
       "    </tr>\n",
       "    <tr>\n",
       "      <th>C</th>\n",
       "      <td>1006026</td>\n",
       "      <td>P0099842</td>\n",
       "      <td>M</td>\n",
       "      <td>20</td>\n",
       "      <td>4+</td>\n",
       "      <td>1</td>\n",
       "      <td>18</td>\n",
       "      <td>18.0</td>\n",
       "      <td>18.0</td>\n",
       "      <td>23949</td>\n",
       "    </tr>\n",
       "    <tr>\n",
       "      <th rowspan=\"3\" valign=\"top\">46-50</th>\n",
       "      <th>A</th>\n",
       "      <td>1006032</td>\n",
       "      <td>P0099842</td>\n",
       "      <td>M</td>\n",
       "      <td>20</td>\n",
       "      <td>4+</td>\n",
       "      <td>1</td>\n",
       "      <td>18</td>\n",
       "      <td>18.0</td>\n",
       "      <td>18.0</td>\n",
       "      <td>23912</td>\n",
       "    </tr>\n",
       "    <tr>\n",
       "      <th>B</th>\n",
       "      <td>1006039</td>\n",
       "      <td>P0099842</td>\n",
       "      <td>M</td>\n",
       "      <td>20</td>\n",
       "      <td>4+</td>\n",
       "      <td>1</td>\n",
       "      <td>18</td>\n",
       "      <td>18.0</td>\n",
       "      <td>18.0</td>\n",
       "      <td>23960</td>\n",
       "    </tr>\n",
       "    <tr>\n",
       "      <th>C</th>\n",
       "      <td>1006037</td>\n",
       "      <td>P0099842</td>\n",
       "      <td>M</td>\n",
       "      <td>20</td>\n",
       "      <td>4+</td>\n",
       "      <td>1</td>\n",
       "      <td>18</td>\n",
       "      <td>18.0</td>\n",
       "      <td>18.0</td>\n",
       "      <td>23919</td>\n",
       "    </tr>\n",
       "    <tr>\n",
       "      <th rowspan=\"3\" valign=\"top\">51-55</th>\n",
       "      <th>A</th>\n",
       "      <td>1006020</td>\n",
       "      <td>P0099742</td>\n",
       "      <td>M</td>\n",
       "      <td>20</td>\n",
       "      <td>4+</td>\n",
       "      <td>1</td>\n",
       "      <td>18</td>\n",
       "      <td>18.0</td>\n",
       "      <td>18.0</td>\n",
       "      <td>23960</td>\n",
       "    </tr>\n",
       "    <tr>\n",
       "      <th>B</th>\n",
       "      <td>1006033</td>\n",
       "      <td>P0099942</td>\n",
       "      <td>M</td>\n",
       "      <td>20</td>\n",
       "      <td>4+</td>\n",
       "      <td>1</td>\n",
       "      <td>18</td>\n",
       "      <td>18.0</td>\n",
       "      <td>18.0</td>\n",
       "      <td>23959</td>\n",
       "    </tr>\n",
       "    <tr>\n",
       "      <th>C</th>\n",
       "      <td>1006002</td>\n",
       "      <td>P0099942</td>\n",
       "      <td>M</td>\n",
       "      <td>20</td>\n",
       "      <td>4+</td>\n",
       "      <td>1</td>\n",
       "      <td>18</td>\n",
       "      <td>18.0</td>\n",
       "      <td>18.0</td>\n",
       "      <td>23958</td>\n",
       "    </tr>\n",
       "    <tr>\n",
       "      <th rowspan=\"3\" valign=\"top\">55+</th>\n",
       "      <th>A</th>\n",
       "      <td>1005968</td>\n",
       "      <td>P0099942</td>\n",
       "      <td>M</td>\n",
       "      <td>17</td>\n",
       "      <td>4+</td>\n",
       "      <td>1</td>\n",
       "      <td>18</td>\n",
       "      <td>18.0</td>\n",
       "      <td>18.0</td>\n",
       "      <td>23913</td>\n",
       "    </tr>\n",
       "    <tr>\n",
       "      <th>B</th>\n",
       "      <td>1005986</td>\n",
       "      <td>P0099942</td>\n",
       "      <td>M</td>\n",
       "      <td>20</td>\n",
       "      <td>4+</td>\n",
       "      <td>1</td>\n",
       "      <td>18</td>\n",
       "      <td>18.0</td>\n",
       "      <td>18.0</td>\n",
       "      <td>23954</td>\n",
       "    </tr>\n",
       "    <tr>\n",
       "      <th>C</th>\n",
       "      <td>1006038</td>\n",
       "      <td>P0099842</td>\n",
       "      <td>M</td>\n",
       "      <td>20</td>\n",
       "      <td>4+</td>\n",
       "      <td>1</td>\n",
       "      <td>18</td>\n",
       "      <td>18.0</td>\n",
       "      <td>18.0</td>\n",
       "      <td>23960</td>\n",
       "    </tr>\n",
       "  </tbody>\n",
       "</table>\n",
       "</div>"
      ],
      "text/plain": [
       "                     User_ID Product_ID Gender  Occupation  \\\n",
       "Age   City_Category                                          \n",
       "0-17  A              1005302   P0099842      M          19   \n",
       "      B              1005953   P0099742      M          19   \n",
       "      C              1006006   P0099742      M          19   \n",
       "18-25 A              1006028   P0099942      M          20   \n",
       "      B              1005998   P0099942      M          20   \n",
       "      C              1006031   P0099842      M          20   \n",
       "26-35 A              1006034   P0099942      M          20   \n",
       "      B              1006040   P0099842      M          20   \n",
       "      C              1006035   P0099842      M          20   \n",
       "36-45 A              1005879   P0099942      M          20   \n",
       "      B              1006017   P0099942      M          20   \n",
       "      C              1006026   P0099842      M          20   \n",
       "46-50 A              1006032   P0099842      M          20   \n",
       "      B              1006039   P0099842      M          20   \n",
       "      C              1006037   P0099842      M          20   \n",
       "51-55 A              1006020   P0099742      M          20   \n",
       "      B              1006033   P0099942      M          20   \n",
       "      C              1006002   P0099942      M          20   \n",
       "55+   A              1005968   P0099942      M          17   \n",
       "      B              1005986   P0099942      M          20   \n",
       "      C              1006038   P0099842      M          20   \n",
       "\n",
       "                    Stay_In_Current_City_Years  Marital_Status  \\\n",
       "Age   City_Category                                              \n",
       "0-17  A                                      3               0   \n",
       "      B                                     4+               0   \n",
       "      C                                     4+               0   \n",
       "18-25 A                                     4+               1   \n",
       "      B                                     4+               1   \n",
       "      C                                     4+               1   \n",
       "26-35 A                                     4+               1   \n",
       "      B                                     4+               1   \n",
       "      C                                     4+               1   \n",
       "36-45 A                                     4+               1   \n",
       "      B                                     4+               1   \n",
       "      C                                     4+               1   \n",
       "46-50 A                                     4+               1   \n",
       "      B                                     4+               1   \n",
       "      C                                     4+               1   \n",
       "51-55 A                                     4+               1   \n",
       "      B                                     4+               1   \n",
       "      C                                     4+               1   \n",
       "55+   A                                     4+               1   \n",
       "      B                                     4+               1   \n",
       "      C                                     4+               1   \n",
       "\n",
       "                     Product_Category_1  Product_Category_2  \\\n",
       "Age   City_Category                                           \n",
       "0-17  A                              18                18.0   \n",
       "      B                              18                18.0   \n",
       "      C                              18                18.0   \n",
       "18-25 A                              18                18.0   \n",
       "      B                              18                18.0   \n",
       "      C                              18                18.0   \n",
       "26-35 A                              18                18.0   \n",
       "      B                              18                18.0   \n",
       "      C                              18                18.0   \n",
       "36-45 A                              18                18.0   \n",
       "      B                              18                18.0   \n",
       "      C                              18                18.0   \n",
       "46-50 A                              18                18.0   \n",
       "      B                              18                18.0   \n",
       "      C                              18                18.0   \n",
       "51-55 A                              18                18.0   \n",
       "      B                              18                18.0   \n",
       "      C                              18                18.0   \n",
       "55+   A                              18                18.0   \n",
       "      B                              18                18.0   \n",
       "      C                              18                18.0   \n",
       "\n",
       "                     Product_Category_3  Purchase  \n",
       "Age   City_Category                                \n",
       "0-17  A                            18.0     23847  \n",
       "      B                            18.0     23953  \n",
       "      C                            18.0     23955  \n",
       "18-25 A                            18.0     23958  \n",
       "      B                            18.0     23958  \n",
       "      C                            18.0     23952  \n",
       "26-35 A                            18.0     23961  \n",
       "      B                            18.0     23955  \n",
       "      C                            18.0     23961  \n",
       "36-45 A                            18.0     23949  \n",
       "      B                            18.0     23960  \n",
       "      C                            18.0     23949  \n",
       "46-50 A                            18.0     23912  \n",
       "      B                            18.0     23960  \n",
       "      C                            18.0     23919  \n",
       "51-55 A                            18.0     23960  \n",
       "      B                            18.0     23959  \n",
       "      C                            18.0     23958  \n",
       "55+   A                            18.0     23913  \n",
       "      B                            18.0     23954  \n",
       "      C                            18.0     23960  "
      ]
     },
     "execution_count": 9,
     "metadata": {},
     "output_type": "execute_result"
    }
   ],
   "source": [
    "df.groupby([\"Age\",\"City_Category\"]).max()"
   ]
  },
  {
   "cell_type": "code",
   "execution_count": 11,
   "id": "89fc7019-c8f1-4302-b0e1-1804179a8a6b",
   "metadata": {},
   "outputs": [
    {
     "data": {
      "text/html": [
       "<div>\n",
       "<style scoped>\n",
       "    .dataframe tbody tr th:only-of-type {\n",
       "        vertical-align: middle;\n",
       "    }\n",
       "\n",
       "    .dataframe tbody tr th {\n",
       "        vertical-align: top;\n",
       "    }\n",
       "\n",
       "    .dataframe thead th {\n",
       "        text-align: right;\n",
       "    }\n",
       "</style>\n",
       "<table border=\"1\" class=\"dataframe\">\n",
       "  <thead>\n",
       "    <tr style=\"text-align: right;\">\n",
       "      <th></th>\n",
       "      <th>User_ID</th>\n",
       "      <th>Product_ID</th>\n",
       "      <th>Gender</th>\n",
       "      <th>Age</th>\n",
       "      <th>Occupation</th>\n",
       "      <th>City_Category</th>\n",
       "      <th>Stay_In_Current_City_Years</th>\n",
       "      <th>Marital_Status</th>\n",
       "      <th>Product_Category_1</th>\n",
       "      <th>Product_Category_2</th>\n",
       "      <th>Product_Category_3</th>\n",
       "      <th>Purchase</th>\n",
       "    </tr>\n",
       "  </thead>\n",
       "  <tbody>\n",
       "    <tr>\n",
       "      <th>299</th>\n",
       "      <td>1000051</td>\n",
       "      <td>P00361842</td>\n",
       "      <td>F</td>\n",
       "      <td>0-17</td>\n",
       "      <td>10</td>\n",
       "      <td>C</td>\n",
       "      <td>2</td>\n",
       "      <td>0</td>\n",
       "      <td>15</td>\n",
       "      <td>16.0</td>\n",
       "      <td>NaN</td>\n",
       "      <td>17271</td>\n",
       "    </tr>\n",
       "    <tr>\n",
       "      <th>127</th>\n",
       "      <td>1000025</td>\n",
       "      <td>P00206442</td>\n",
       "      <td>M</td>\n",
       "      <td>18-25</td>\n",
       "      <td>4</td>\n",
       "      <td>C</td>\n",
       "      <td>4+</td>\n",
       "      <td>0</td>\n",
       "      <td>1</td>\n",
       "      <td>5.0</td>\n",
       "      <td>9.0</td>\n",
       "      <td>15361</td>\n",
       "    </tr>\n",
       "    <tr>\n",
       "      <th>19</th>\n",
       "      <td>1000008</td>\n",
       "      <td>P00249542</td>\n",
       "      <td>M</td>\n",
       "      <td>26-35</td>\n",
       "      <td>12</td>\n",
       "      <td>C</td>\n",
       "      <td>4+</td>\n",
       "      <td>1</td>\n",
       "      <td>1</td>\n",
       "      <td>5.0</td>\n",
       "      <td>15.0</td>\n",
       "      <td>19614</td>\n",
       "    </tr>\n",
       "    <tr>\n",
       "      <th>55</th>\n",
       "      <td>1000014</td>\n",
       "      <td>P00276642</td>\n",
       "      <td>M</td>\n",
       "      <td>36-45</td>\n",
       "      <td>0</td>\n",
       "      <td>C</td>\n",
       "      <td>0</td>\n",
       "      <td>0</td>\n",
       "      <td>8</td>\n",
       "      <td>11.0</td>\n",
       "      <td>NaN</td>\n",
       "      <td>5848</td>\n",
       "    </tr>\n",
       "    <tr>\n",
       "      <th>52</th>\n",
       "      <td>1000013</td>\n",
       "      <td>P00129542</td>\n",
       "      <td>M</td>\n",
       "      <td>46-50</td>\n",
       "      <td>1</td>\n",
       "      <td>C</td>\n",
       "      <td>3</td>\n",
       "      <td>1</td>\n",
       "      <td>8</td>\n",
       "      <td>14.0</td>\n",
       "      <td>NaN</td>\n",
       "      <td>5839</td>\n",
       "    </tr>\n",
       "    <tr>\n",
       "      <th>67</th>\n",
       "      <td>1000017</td>\n",
       "      <td>P00019342</td>\n",
       "      <td>M</td>\n",
       "      <td>51-55</td>\n",
       "      <td>1</td>\n",
       "      <td>C</td>\n",
       "      <td>0</td>\n",
       "      <td>0</td>\n",
       "      <td>1</td>\n",
       "      <td>6.0</td>\n",
       "      <td>15.0</td>\n",
       "      <td>15872</td>\n",
       "    </tr>\n",
       "    <tr>\n",
       "      <th>4</th>\n",
       "      <td>1000002</td>\n",
       "      <td>P00285442</td>\n",
       "      <td>M</td>\n",
       "      <td>55+</td>\n",
       "      <td>16</td>\n",
       "      <td>C</td>\n",
       "      <td>4+</td>\n",
       "      <td>0</td>\n",
       "      <td>8</td>\n",
       "      <td>NaN</td>\n",
       "      <td>NaN</td>\n",
       "      <td>7969</td>\n",
       "    </tr>\n",
       "  </tbody>\n",
       "</table>\n",
       "</div>"
      ],
      "text/plain": [
       "     User_ID Product_ID Gender    Age  Occupation City_Category  \\\n",
       "299  1000051  P00361842      F   0-17          10             C   \n",
       "127  1000025  P00206442      M  18-25           4             C   \n",
       "19   1000008  P00249542      M  26-35          12             C   \n",
       "55   1000014  P00276642      M  36-45           0             C   \n",
       "52   1000013  P00129542      M  46-50           1             C   \n",
       "67   1000017  P00019342      M  51-55           1             C   \n",
       "4    1000002  P00285442      M    55+          16             C   \n",
       "\n",
       "    Stay_In_Current_City_Years  Marital_Status  Product_Category_1  \\\n",
       "299                          2               0                  15   \n",
       "127                         4+               0                   1   \n",
       "19                          4+               1                   1   \n",
       "55                           0               0                   8   \n",
       "52                           3               1                   8   \n",
       "67                           0               0                   1   \n",
       "4                           4+               0                   8   \n",
       "\n",
       "     Product_Category_2  Product_Category_3  Purchase  \n",
       "299                16.0                 NaN     17271  \n",
       "127                 5.0                 9.0     15361  \n",
       "19                  5.0                15.0     19614  \n",
       "55                 11.0                 NaN      5848  \n",
       "52                 14.0                 NaN      5839  \n",
       "67                  6.0                15.0     15872  \n",
       "4                   NaN                 NaN      7969  "
      ]
     },
     "execution_count": 11,
     "metadata": {},
     "output_type": "execute_result"
    }
   ],
   "source": [
    "df.loc[df.groupby(\"Age\")[\"City_Category\"].idxmax()]"
   ]
  },
  {
   "cell_type": "code",
   "execution_count": 19,
   "id": "e076adbb-8064-458f-b2c8-01b5fbb6b8a7",
   "metadata": {},
   "outputs": [
    {
     "data": {
      "text/plain": [
       "User_ID                        38970\n",
       "Product_ID                     84609\n",
       "Gender                            85\n",
       "Age                                0\n",
       "Occupation                      4526\n",
       "City_Category                    299\n",
       "Stay_In_Current_City_Years       423\n",
       "Marital_Status                     0\n",
       "Product_Category_1              6793\n",
       "Product_Category_2              2242\n",
       "Product_Category_3              7850\n",
       "Purchase                      388010\n",
       "dtype: int64"
      ]
     },
     "execution_count": 19,
     "metadata": {},
     "output_type": "execute_result"
    }
   ],
   "source": [
    "df[df[\"Age\"]==\"0-17\"].idxmax()"
   ]
  },
  {
   "cell_type": "code",
   "execution_count": null,
   "id": "f2b5382a-4d7b-4447-a263-68e3014af3ba",
   "metadata": {},
   "outputs": [],
   "source": []
  }
 ],
 "metadata": {
  "kernelspec": {
   "display_name": "Python 3 (ipykernel)",
   "language": "python",
   "name": "python3"
  },
  "language_info": {
   "codemirror_mode": {
    "name": "ipython",
    "version": 3
   },
   "file_extension": ".py",
   "mimetype": "text/x-python",
   "name": "python",
   "nbconvert_exporter": "python",
   "pygments_lexer": "ipython3",
   "version": "3.11.7"
  }
 },
 "nbformat": 4,
 "nbformat_minor": 5
}
